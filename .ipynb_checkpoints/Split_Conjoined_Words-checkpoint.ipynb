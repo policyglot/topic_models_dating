{
 "cells": [
  {
   "cell_type": "code",
   "execution_count": 1,
   "metadata": {},
   "outputs": [
    {
     "name": "stdout",
     "output_type": "stream",
     "text": [
      "Requirement already satisfied: compound-word-splitter in c:\\users\\lliu9\\anaconda3\\lib\\site-packages (0.4)\n",
      "Requirement already satisfied: pyspellchecker in c:\\users\\lliu9\\anaconda3\\lib\\site-packages (0.5.3)\n",
      "Requirement already satisfied: wordninja in c:\\users\\lliu9\\anaconda3\\lib\\site-packages (2.0.0)\n"
     ]
    }
   ],
   "source": [
    "!pip install compound-word-splitter\n",
    "!pip install pyspellchecker\n",
    "!pip install wordninja"
   ]
  },
  {
   "cell_type": "code",
   "execution_count": 5,
   "metadata": {},
   "outputs": [],
   "source": [
    "import numpy as np\n",
    "import pandas as pd\n",
    "import warnings\n",
    "import re\n",
    "from spellchecker import SpellChecker\n",
    "warnings.filterwarnings('ignore')\n",
    "from tqdm import tqdm\n",
    "tqdm.pandas()\n",
    "import wordninja"
   ]
  },
  {
   "cell_type": "code",
   "execution_count": null,
   "metadata": {},
   "outputs": [],
   "source": [
    "corrections ={r\"won\\'t\": \"will not\",\n",
    "              r\"can\\'t\": \"can not\",\n",
    "              r\"n\\'t\": \" not\",\n",
    "              r\"\\'re\": \" are\",\n",
    "              r\"\\'s\": \" is\",\n",
    "              r\"\\'d\": \" would\",\n",
    "              r\"\\'ll\": \" will\",\n",
    "              r\"\\'t\": \" not\",\n",
    "              r\"\\'ve\": \" have\",\n",
    "              r\"\\'m\": \" am\"}\n",
    "\n",
    "def decontracted(phrase):  \n",
    "    # Taken from:\n",
    "    # https://stackoverflow.com/questions/19790188/expanding-english-language-contractions-in-python\n",
    "    # specific\n",
    "    for k,v in corrections.items():\n",
    "        phrase = re.sub(k, v, phrase)\n",
    "    return phrase\n",
    "\n",
    "def split_word(compound_word):\n",
    "    '''\n",
    "    Takes in compound word\n",
    "    Splits it into individual words\n",
    "    Returns string with spaced words\n",
    "    '''\n",
    "    sep_words = wordninja.split(compound_word)\n",
    "    print('The separated words are {}'.format(sep_words))\n",
    "    cleaned = ' '.join(sep_words)\n",
    "    print(cleaned)\n",
    "    return cleaned\n",
    "\n",
    "def decide_split(word):\n",
    "    spellcheck = SpellChecker()\n",
    "    if not spellcheck[word]:\n",
    "        nearest = spellcheck.correction(word)\n",
    "        #When there is no valid word, the nearest word\n",
    "        #is the same as the original\n",
    "        if word == nearest:\n",
    "            #print('The compound word is {}'.format(word))\n",
    "            return split_word(word)\n",
    "        else:\n",
    "            #print('The accepted word is {}'.format(word))            \n",
    "            #print(nearest)\n",
    "            return nearest\n",
    "    else:\n",
    "        return word\n",
    "\n",
    "def split_incorrect(text, punctuation=True):\n",
    "    '''\n",
    "    Takes in a long string\n",
    "    The punctuation parameter checks if punctuation marks are to\n",
    "    be preserved\n",
    "    Splits into component words, checks for incorrect spellings\n",
    "    For incorrect spellings, checks if is possibly compound\n",
    "    If not, then looks for the closest one word in the dictionary\n",
    "    Returns the entire text with all words corrected\n",
    "    '''\n",
    "    #if punctuation:\n",
    "\n",
    "    cleaned_words = []\n",
    "    words= re.split('\\.+', text)\n",
    "    #print(words)\n",
    "    for word in words:\n",
    "        word = decontracted(word)\n",
    "        checked_word = decide_split(word)\n",
    "        print('The checked word is {}'.format(checked_word))\n",
    "        cleaned_words.append(checked_word)\n",
    "    final = \" \".join(cleaned_words)\n",
    "    print(\"done!\")\n",
    "    return final"
   ]
  },
  {
   "cell_type": "code",
   "execution_count": null,
   "metadata": {},
   "outputs": [],
   "source": [
    "real_text = 'i really like meeting new people. small-world networks fascinateme.beer is important. without beer, there would be nocivilization.somehow i can only sing spanish, but not speak it. i suppose musicis the universal language?coffee enthusiast.why am i the only one singing when riding my bike around themission?'\n",
    "real_text_2 = \"i'm an adventurer first, i take calculatedrisks whenever it seems fun, and i always take care of those aroundme.i'm a writer, astory teller, a photographer and those things arebasically the same thing to me. i love playing with lights, sound,and really any machine that has locomotion or pretty blinky thingson it. love driving, racing, flying, sailing, sky diving, and adrenaline issacred. that said, i so appreciate a night at home with a goodbook, bottle of wine, or if i have company, a movie andconversation. not at the same time, though, i like to hear themovie, then focus on you:) more later...\""
   ]
  },
  {
   "cell_type": "code",
   "execution_count": null,
   "metadata": {},
   "outputs": [],
   "source": [
    "%timeit print(split_incorrect(test_text))"
   ]
  }
 ],
 "metadata": {
  "kernelspec": {
   "display_name": "Python 3",
   "language": "python",
   "name": "python3"
  },
  "language_info": {
   "codemirror_mode": {
    "name": "ipython",
    "version": 3
   },
   "file_extension": ".py",
   "mimetype": "text/x-python",
   "name": "python",
   "nbconvert_exporter": "python",
   "pygments_lexer": "ipython3",
   "version": "3.7.2"
  }
 },
 "nbformat": 4,
 "nbformat_minor": 2
}
